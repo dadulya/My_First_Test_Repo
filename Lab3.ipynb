{
  "nbformat": 4,
  "nbformat_minor": 0,
  "metadata": {
    "colab": {
      "name": "Lab3.ipynb",
      "provenance": [],
      "collapsed_sections": [],
      "include_colab_link": true
    },
    "kernelspec": {
      "name": "python3",
      "display_name": "Python 3"
    },
    "language_info": {
      "name": "python"
    }
  },
  "cells": [
    {
      "cell_type": "markdown",
      "metadata": {
        "id": "view-in-github",
        "colab_type": "text"
      },
      "source": [
        "<a href=\"https://colab.research.google.com/github/dadulya/My_First_Test_Repo/blob/main/Lab3.ipynb\" target=\"_parent\"><img src=\"https://colab.research.google.com/assets/colab-badge.svg\" alt=\"Open In Colab\"/></a>"
      ]
    },
    {
      "cell_type": "code",
      "metadata": {
        "id": "pS7kwG9bDEEx"
      },
      "source": [
        "# 1. Подключение Pandas и NumPy\n",
        "import pandas as pd\n",
        "import numpy as np"
      ],
      "execution_count": null,
      "outputs": []
    },
    {
      "cell_type": "code",
      "metadata": {
        "id": "MzEU8hGVPo55",
        "colab": {
          "base_uri": "https://localhost:8080/",
          "height": 173
        },
        "outputId": "558aff7d-1ea3-473f-d4b6-2aacf9abef47"
      },
      "source": [
        "# 2. Пример создания таблицы (DataFrame) с помощью кода\n",
        "df_init = pd.DataFrame({\n",
        "    'имя': ['Павагада солнечный парк', 'Солнечный парк в пустыне Тенгер', 'Солнечный парк Бхадла', 'Солнечный парк плотины Лунъянся'],\n",
        "    'страна': ['Индия', 'Китай', 'Индия', 'Китай'],\n",
        "    'мощность[МВт]': [2050, 1.547, 1.515, 850],\n",
        "    'год': [2017, 2016, 2017, 2015]\n",
        "})\n",
        "\n",
        "df_init.head()"
      ],
      "execution_count": null,
      "outputs": [
        {
          "output_type": "execute_result",
          "data": {
            "text/html": [
              "<div>\n",
              "<style scoped>\n",
              "    .dataframe tbody tr th:only-of-type {\n",
              "        vertical-align: middle;\n",
              "    }\n",
              "\n",
              "    .dataframe tbody tr th {\n",
              "        vertical-align: top;\n",
              "    }\n",
              "\n",
              "    .dataframe thead th {\n",
              "        text-align: right;\n",
              "    }\n",
              "</style>\n",
              "<table border=\"1\" class=\"dataframe\">\n",
              "  <thead>\n",
              "    <tr style=\"text-align: right;\">\n",
              "      <th></th>\n",
              "      <th>имя</th>\n",
              "      <th>страна</th>\n",
              "      <th>мощность[МВт]</th>\n",
              "      <th>год</th>\n",
              "    </tr>\n",
              "  </thead>\n",
              "  <tbody>\n",
              "    <tr>\n",
              "      <th>0</th>\n",
              "      <td>Павагада солнечный парк</td>\n",
              "      <td>Индия</td>\n",
              "      <td>2050.000</td>\n",
              "      <td>2017</td>\n",
              "    </tr>\n",
              "    <tr>\n",
              "      <th>1</th>\n",
              "      <td>Солнечный парк в пустыне Тенгер</td>\n",
              "      <td>Китай</td>\n",
              "      <td>1.547</td>\n",
              "      <td>2016</td>\n",
              "    </tr>\n",
              "    <tr>\n",
              "      <th>2</th>\n",
              "      <td>Солнечный парк Бхадла</td>\n",
              "      <td>Индия</td>\n",
              "      <td>1.515</td>\n",
              "      <td>2017</td>\n",
              "    </tr>\n",
              "    <tr>\n",
              "      <th>3</th>\n",
              "      <td>Солнечный парк плотины Лунъянся</td>\n",
              "      <td>Китай</td>\n",
              "      <td>850.000</td>\n",
              "      <td>2015</td>\n",
              "    </tr>\n",
              "  </tbody>\n",
              "</table>\n",
              "</div>"
            ],
            "text/plain": [
              "                               имя страна  мощность[МВт]   год\n",
              "0          Павагада солнечный парк  Индия       2050.000  2017\n",
              "1  Солнечный парк в пустыне Тенгер  Китай          1.547  2016\n",
              "2            Солнечный парк Бхадла  Индия          1.515  2017\n",
              "3  Солнечный парк плотины Лунъянся  Китай        850.000  2015"
            ]
          },
          "metadata": {
            "tags": []
          },
          "execution_count": 224
        }
      ]
    },
    {
      "cell_type": "code",
      "metadata": {
        "id": "isFZ9mOvPrRB",
        "colab": {
          "base_uri": "https://localhost:8080/"
        },
        "outputId": "8cd7db1c-4b8e-45ef-9e1c-cbdefc980cfd"
      },
      "source": [
        "# 3. Добавление строк\n",
        "# Для добавления строк можно использовать функцию append. По сути здесь создается еще одна таблица тем же способом, что df_init. Затем добавляется к df_init\n",
        "df_exted = df_init.append(pd.DataFrame({'имя': ['Проект солнечной энергии Камути', 'Топаз солнечная ферма'], 'страна': ['Индия','Соединенные Штаты'], 'мощность[МВт]': [648, 550], 'год': [2016, 2014]}), ignore_index = True)\n",
        "\n",
        "# первые строки таблицы можно вывести на экран в более простом виде, применив функцию print.\n",
        "print(df_exted)\n",
        "print()\n",
        "\n",
        "# Получение списка имен столбцов\n",
        "print('имена столбцов:', df_exted.columns.values)"
      ],
      "execution_count": null,
      "outputs": [
        {
          "output_type": "stream",
          "text": [
            "                               имя             страна  мощность[МВт]   год\n",
            "0          Павагада солнечный парк              Индия       2050.000  2017\n",
            "1  Солнечный парк в пустыне Тенгер              Китай          1.547  2016\n",
            "2            Солнечный парк Бхадла              Индия          1.515  2017\n",
            "3  Солнечный парк плотины Лунъянся              Китай        850.000  2015\n",
            "4  Проект солнечной энергии Камути              Индия        648.000  2016\n",
            "5            Топаз солнечная ферма  Соединенные Штаты        550.000  2014\n",
            "\n",
            "имена столбцов: ['имя' 'страна' 'мощность[МВт]' 'год']\n"
          ],
          "name": "stdout"
        }
      ]
    },
    {
      "cell_type": "code",
      "metadata": {
        "id": "UkiyWsUBPu4t",
        "colab": {
          "base_uri": "https://localhost:8080/",
          "height": 166
        },
        "outputId": "9ed7d4e6-28d6-4f55-b8ec-b3f059f4fe58"
      },
      "source": [
        "# Можно делать разничные визуальные эффекты, и управлять форматом отображения таблицных данных, \n",
        "# но здесь их рассматривать не будем (https://pandas.pydata.org/pandas-docs/stable/user_guide/style.html).\n",
        "df_exted.style.bar(color = '#00FF00', vmin = 0).format({'мощность': '{:.1f}'})"
      ],
      "execution_count": null,
      "outputs": [
        {
          "output_type": "execute_result",
          "data": {
            "text/html": [
              "<style  type=\"text/css\" >\n",
              "#T_a14307d0_b488_11eb_9976_0242ac1c0002row0_col2,#T_a14307d0_b488_11eb_9976_0242ac1c0002row0_col3,#T_a14307d0_b488_11eb_9976_0242ac1c0002row1_col3,#T_a14307d0_b488_11eb_9976_0242ac1c0002row2_col3,#T_a14307d0_b488_11eb_9976_0242ac1c0002row4_col3{\n",
              "            width:  10em;\n",
              "             height:  80%;\n",
              "            background:  linear-gradient(90deg,#00FF00 100.0%, transparent 100.0%);\n",
              "        }#T_a14307d0_b488_11eb_9976_0242ac1c0002row1_col2,#T_a14307d0_b488_11eb_9976_0242ac1c0002row2_col2{\n",
              "            width:  10em;\n",
              "             height:  80%;\n",
              "            background:  linear-gradient(90deg,#00FF00 0.1%, transparent 0.1%);\n",
              "        }#T_a14307d0_b488_11eb_9976_0242ac1c0002row3_col2{\n",
              "            width:  10em;\n",
              "             height:  80%;\n",
              "            background:  linear-gradient(90deg,#00FF00 41.5%, transparent 41.5%);\n",
              "        }#T_a14307d0_b488_11eb_9976_0242ac1c0002row3_col3,#T_a14307d0_b488_11eb_9976_0242ac1c0002row5_col3{\n",
              "            width:  10em;\n",
              "             height:  80%;\n",
              "            background:  linear-gradient(90deg,#00FF00 99.9%, transparent 99.9%);\n",
              "        }#T_a14307d0_b488_11eb_9976_0242ac1c0002row4_col2{\n",
              "            width:  10em;\n",
              "             height:  80%;\n",
              "            background:  linear-gradient(90deg,#00FF00 31.6%, transparent 31.6%);\n",
              "        }#T_a14307d0_b488_11eb_9976_0242ac1c0002row5_col2{\n",
              "            width:  10em;\n",
              "             height:  80%;\n",
              "            background:  linear-gradient(90deg,#00FF00 26.8%, transparent 26.8%);\n",
              "        }</style><table id=\"T_a14307d0_b488_11eb_9976_0242ac1c0002\" ><thead>    <tr>        <th class=\"blank level0\" ></th>        <th class=\"col_heading level0 col0\" >имя</th>        <th class=\"col_heading level0 col1\" >страна</th>        <th class=\"col_heading level0 col2\" >мощность[МВт]</th>        <th class=\"col_heading level0 col3\" >год</th>    </tr></thead><tbody>\n",
              "                <tr>\n",
              "                        <th id=\"T_a14307d0_b488_11eb_9976_0242ac1c0002level0_row0\" class=\"row_heading level0 row0\" >0</th>\n",
              "                        <td id=\"T_a14307d0_b488_11eb_9976_0242ac1c0002row0_col0\" class=\"data row0 col0\" >Павагада солнечный парк</td>\n",
              "                        <td id=\"T_a14307d0_b488_11eb_9976_0242ac1c0002row0_col1\" class=\"data row0 col1\" >Индия</td>\n",
              "                        <td id=\"T_a14307d0_b488_11eb_9976_0242ac1c0002row0_col2\" class=\"data row0 col2\" >2050.000000</td>\n",
              "                        <td id=\"T_a14307d0_b488_11eb_9976_0242ac1c0002row0_col3\" class=\"data row0 col3\" >2017</td>\n",
              "            </tr>\n",
              "            <tr>\n",
              "                        <th id=\"T_a14307d0_b488_11eb_9976_0242ac1c0002level0_row1\" class=\"row_heading level0 row1\" >1</th>\n",
              "                        <td id=\"T_a14307d0_b488_11eb_9976_0242ac1c0002row1_col0\" class=\"data row1 col0\" >Солнечный парк в пустыне Тенгер</td>\n",
              "                        <td id=\"T_a14307d0_b488_11eb_9976_0242ac1c0002row1_col1\" class=\"data row1 col1\" >Китай</td>\n",
              "                        <td id=\"T_a14307d0_b488_11eb_9976_0242ac1c0002row1_col2\" class=\"data row1 col2\" >1.547000</td>\n",
              "                        <td id=\"T_a14307d0_b488_11eb_9976_0242ac1c0002row1_col3\" class=\"data row1 col3\" >2016</td>\n",
              "            </tr>\n",
              "            <tr>\n",
              "                        <th id=\"T_a14307d0_b488_11eb_9976_0242ac1c0002level0_row2\" class=\"row_heading level0 row2\" >2</th>\n",
              "                        <td id=\"T_a14307d0_b488_11eb_9976_0242ac1c0002row2_col0\" class=\"data row2 col0\" >Солнечный парк Бхадла</td>\n",
              "                        <td id=\"T_a14307d0_b488_11eb_9976_0242ac1c0002row2_col1\" class=\"data row2 col1\" >Индия</td>\n",
              "                        <td id=\"T_a14307d0_b488_11eb_9976_0242ac1c0002row2_col2\" class=\"data row2 col2\" >1.515000</td>\n",
              "                        <td id=\"T_a14307d0_b488_11eb_9976_0242ac1c0002row2_col3\" class=\"data row2 col3\" >2017</td>\n",
              "            </tr>\n",
              "            <tr>\n",
              "                        <th id=\"T_a14307d0_b488_11eb_9976_0242ac1c0002level0_row3\" class=\"row_heading level0 row3\" >3</th>\n",
              "                        <td id=\"T_a14307d0_b488_11eb_9976_0242ac1c0002row3_col0\" class=\"data row3 col0\" >Солнечный парк плотины Лунъянся</td>\n",
              "                        <td id=\"T_a14307d0_b488_11eb_9976_0242ac1c0002row3_col1\" class=\"data row3 col1\" >Китай</td>\n",
              "                        <td id=\"T_a14307d0_b488_11eb_9976_0242ac1c0002row3_col2\" class=\"data row3 col2\" >850.000000</td>\n",
              "                        <td id=\"T_a14307d0_b488_11eb_9976_0242ac1c0002row3_col3\" class=\"data row3 col3\" >2015</td>\n",
              "            </tr>\n",
              "            <tr>\n",
              "                        <th id=\"T_a14307d0_b488_11eb_9976_0242ac1c0002level0_row4\" class=\"row_heading level0 row4\" >4</th>\n",
              "                        <td id=\"T_a14307d0_b488_11eb_9976_0242ac1c0002row4_col0\" class=\"data row4 col0\" >Проект солнечной энергии Камути</td>\n",
              "                        <td id=\"T_a14307d0_b488_11eb_9976_0242ac1c0002row4_col1\" class=\"data row4 col1\" >Индия</td>\n",
              "                        <td id=\"T_a14307d0_b488_11eb_9976_0242ac1c0002row4_col2\" class=\"data row4 col2\" >648.000000</td>\n",
              "                        <td id=\"T_a14307d0_b488_11eb_9976_0242ac1c0002row4_col3\" class=\"data row4 col3\" >2016</td>\n",
              "            </tr>\n",
              "            <tr>\n",
              "                        <th id=\"T_a14307d0_b488_11eb_9976_0242ac1c0002level0_row5\" class=\"row_heading level0 row5\" >5</th>\n",
              "                        <td id=\"T_a14307d0_b488_11eb_9976_0242ac1c0002row5_col0\" class=\"data row5 col0\" >Топаз солнечная ферма</td>\n",
              "                        <td id=\"T_a14307d0_b488_11eb_9976_0242ac1c0002row5_col1\" class=\"data row5 col1\" >Соединенные Штаты</td>\n",
              "                        <td id=\"T_a14307d0_b488_11eb_9976_0242ac1c0002row5_col2\" class=\"data row5 col2\" >550.000000</td>\n",
              "                        <td id=\"T_a14307d0_b488_11eb_9976_0242ac1c0002row5_col3\" class=\"data row5 col3\" >2014</td>\n",
              "            </tr>\n",
              "    </tbody></table>"
            ],
            "text/plain": [
              "<pandas.io.formats.style.Styler at 0x7f70895fe790>"
            ]
          },
          "metadata": {
            "tags": []
          },
          "execution_count": 226
        }
      ]
    },
    {
      "cell_type": "code",
      "metadata": {
        "id": "8i95zLbfPxLK",
        "colab": {
          "base_uri": "https://localhost:8080/"
        },
        "outputId": "3bced32c-1059-4fc8-c709-3a3cafe8bbd6"
      },
      "source": [
        "# 4. Добавление столбца.\n",
        "# Например, добавим каждой станции условное обозначение - идентификатор\n",
        "df_exted.insert(4, 'расстояние(км^2)', [53, 43, 40, 23, 10.1, 24.6])\n",
        "\n",
        "print(df_exted)\n",
        "print()\n",
        "\n"
      ],
      "execution_count": null,
      "outputs": [
        {
          "output_type": "stream",
          "text": [
            "                               имя             страна  ...   год  расстояние(км^2)\n",
            "0          Павагада солнечный парк              Индия  ...  2017              53.0\n",
            "1  Солнечный парк в пустыне Тенгер              Китай  ...  2016              43.0\n",
            "2            Солнечный парк Бхадла              Индия  ...  2017              40.0\n",
            "3  Солнечный парк плотины Лунъянся              Китай  ...  2015              23.0\n",
            "4  Проект солнечной энергии Камути              Индия  ...  2016              10.1\n",
            "5            Топаз солнечная ферма  Соединенные Штаты  ...  2014              24.6\n",
            "\n",
            "[6 rows x 5 columns]\n",
            "\n"
          ],
          "name": "stdout"
        }
      ]
    },
    {
      "cell_type": "code",
      "metadata": {
        "id": "XIO4p_oHP8cj",
        "colab": {
          "base_uri": "https://localhost:8080/"
        },
        "outputId": "3c00a2a8-80bd-471c-c5f0-eef38e64f264"
      },
      "source": [
        "# 5. Сортировка\n",
        "df_exted = df_exted.sort_values(['имя'])\n",
        "print(df_exted)\n",
        "print()\n",
        "\n",
        "# ascending задает сортировку по убыванию или возрастанию\n",
        "# по умолчанию True - сортировка по убыванию, если поставить False, то будет по возрастанию\n",
        "df_exted = df_exted.sort_values(['мощность[МВт]'], ascending = True)\n",
        "print(df_exted)"
      ],
      "execution_count": null,
      "outputs": [
        {
          "output_type": "stream",
          "text": [
            "                               имя             страна  ...   год  расстояние(км^2)\n",
            "0          Павагада солнечный парк              Индия  ...  2017              53.0\n",
            "4  Проект солнечной энергии Камути              Индия  ...  2016              10.1\n",
            "2            Солнечный парк Бхадла              Индия  ...  2017              40.0\n",
            "1  Солнечный парк в пустыне Тенгер              Китай  ...  2016              43.0\n",
            "3  Солнечный парк плотины Лунъянся              Китай  ...  2015              23.0\n",
            "5            Топаз солнечная ферма  Соединенные Штаты  ...  2014              24.6\n",
            "\n",
            "[6 rows x 5 columns]\n",
            "\n",
            "                               имя             страна  ...   год  расстояние(км^2)\n",
            "2            Солнечный парк Бхадла              Индия  ...  2017              40.0\n",
            "1  Солнечный парк в пустыне Тенгер              Китай  ...  2016              43.0\n",
            "5            Топаз солнечная ферма  Соединенные Штаты  ...  2014              24.6\n",
            "4  Проект солнечной энергии Камути              Индия  ...  2016              10.1\n",
            "3  Солнечный парк плотины Лунъянся              Китай  ...  2015              23.0\n",
            "0          Павагада солнечный парк              Индия  ...  2017              53.0\n",
            "\n",
            "[6 rows x 5 columns]\n"
          ],
          "name": "stdout"
        }
      ]
    },
    {
      "cell_type": "code",
      "metadata": {
        "id": "2sMcSe-dQG9L",
        "colab": {
          "base_uri": "https://localhost:8080/"
        },
        "outputId": "b85c9c36-ff06-4337-f36c-2dbb377a2c5e"
      },
      "source": [
        "# 6. Создание столбцов на основе вычислений.\n",
        "# Чтобы случайно не испортить df_exted, будем работать с копией\n",
        "df_exted_2 = df_exted.copy()\n",
        "\n",
        "# Добавление столбца на основе формулы делается легко\n",
        "df_exted_2['выработка_за_сутки'] = df_exted_2['мощность[МВт]'] * 24 # 24 часа в сутках\n",
        "\n",
        "# Сложности могут возникнуть когда нужно реализовать условия и работать с текстовыми данными.\n",
        "\n",
        "# Условия можно задавать через NumPy функцию where, а поиск подстроки в строке через find.\n",
        "# Так можно одной строкой задать целый алгоритм:\n",
        "\n",
        "\n",
        "df_exted_2['географическое положение'] = np.where(df_exted_2['страна'].str.find('Индия') >= 0, 'Восток', np.where(df_exted_2['страна'].str.find('Китай') >= 0, 'Азия',  '?'))\n",
        "\n",
        "\n",
        "print(df_exted_2)\n",
        "\n",
        "# Легко применить расчеты, используя несколько столбцов сразу\n",
        "df_exted_2['проверка_расчетов'] =  df_exted_2['выработка_за_сутки'] / df_exted_2['мощность[МВт]'] == 24\n",
        "print(df_exted_2)"
      ],
      "execution_count": null,
      "outputs": [
        {
          "output_type": "stream",
          "text": [
            "                               имя  ... географическое положение\n",
            "2            Солнечный парк Бхадла  ...                   Восток\n",
            "1  Солнечный парк в пустыне Тенгер  ...                     Азия\n",
            "5            Топаз солнечная ферма  ...                        ?\n",
            "4  Проект солнечной энергии Камути  ...                   Восток\n",
            "3  Солнечный парк плотины Лунъянся  ...                     Азия\n",
            "0          Павагада солнечный парк  ...                   Восток\n",
            "\n",
            "[6 rows x 7 columns]\n",
            "                               имя  ... проверка_расчетов\n",
            "2            Солнечный парк Бхадла  ...              True\n",
            "1  Солнечный парк в пустыне Тенгер  ...              True\n",
            "5            Топаз солнечная ферма  ...              True\n",
            "4  Проект солнечной энергии Камути  ...              True\n",
            "3  Солнечный парк плотины Лунъянся  ...              True\n",
            "0          Павагада солнечный парк  ...              True\n",
            "\n",
            "[6 rows x 8 columns]\n"
          ],
          "name": "stdout"
        }
      ]
    },
    {
      "cell_type": "code",
      "metadata": {
        "id": "78j8ubNnQJZj",
        "colab": {
          "base_uri": "https://localhost:8080/"
        },
        "outputId": "50694dbe-9456-49b7-8dad-3205b6361aaa"
      },
      "source": [
        "# 7. Выборка нужных фрагментов. Есть три основных способа выделения фрагментов.\n",
        "\n",
        "# 7.1. Через имя столбца или столбцов\n",
        "print('все данные из столбцов \\'имя\\' и \\'мощность\\'')\n",
        "print(df_exted_2[['имя', 'мощность[МВт]']])\n",
        "print()\n",
        "print('все данные из столбца \\'имя\\'')\n",
        "print(df_exted_2.имя)\n",
        "print()\n",
        "\n",
        "# 7.2. Через loc по именам строк и столбцов\n",
        "print('данные из строк \\'Солнечный парк Бхадла\\' и \\' Солнечный парк в пустыне Тенгер \\' и столбцов \\'имя\\' и \\'мощность[МВт]\\'')\n",
        "print(df_exted_2.loc[[2, 1], ['имя', 'мощность[МВт]']])\n",
        "print()\n",
        "\n",
        "print('все данные из строки \\2')\n",
        "print(df_exted_2.loc[[2]])\n",
        "print()\n",
        "\n",
        "# 7.3. Через iloc по номерам строк и столбцов, номера идут с нуля\n",
        "print('данные из первой строки и второго столбца')\n",
        "print(df_exted_2.iloc[1 , 2])\n",
        "print()\n",
        "print('данные из всех строк кроме двух последних и из столбцов со второго по четвертый включительно')\n",
        "print(df_exted_2.iloc[: -2, 2 : 5])\n",
        "print()\n",
        "print('данные из нечетных строк и третьего столбца')\n",
        "print(df_exted_2.iloc[ : : 2, 3])\n",
        "print()"
      ],
      "execution_count": null,
      "outputs": [
        {
          "output_type": "stream",
          "text": [
            "все данные из столбцов 'имя' и 'мощность'\n",
            "                               имя  мощность[МВт]\n",
            "2            Солнечный парк Бхадла          1.515\n",
            "1  Солнечный парк в пустыне Тенгер          1.547\n",
            "5            Топаз солнечная ферма        550.000\n",
            "4  Проект солнечной энергии Камути        648.000\n",
            "3  Солнечный парк плотины Лунъянся        850.000\n",
            "0          Павагада солнечный парк       2050.000\n",
            "\n",
            "все данные из столбца 'имя'\n",
            "2              Солнечный парк Бхадла\n",
            "1    Солнечный парк в пустыне Тенгер\n",
            "5              Топаз солнечная ферма\n",
            "4    Проект солнечной энергии Камути\n",
            "3    Солнечный парк плотины Лунъянся\n",
            "0            Павагада солнечный парк\n",
            "Name: имя, dtype: object\n",
            "\n",
            "данные из строк 'Солнечный парк Бхадла' и ' Солнечный парк в пустыне Тенгер ' и столбцов 'имя' и 'мощность[МВт]'\n",
            "                               имя  мощность[МВт]\n",
            "2            Солнечный парк Бхадла          1.515\n",
            "1  Солнечный парк в пустыне Тенгер          1.547\n",
            "\n",
            "все данные из строки \u0002\n",
            "                     имя страна  ...  географическое положение  проверка_расчетов\n",
            "2  Солнечный парк Бхадла  Индия  ...                    Восток               True\n",
            "\n",
            "[1 rows x 8 columns]\n",
            "\n",
            "данные из первой строки и второго столбца\n",
            "1.547\n",
            "\n",
            "данные из всех строк кроме двух последних и из столбцов со второго по четвертый включительно\n",
            "   мощность[МВт]   год  расстояние(км^2)\n",
            "2          1.515  2017              40.0\n",
            "1          1.547  2016              43.0\n",
            "5        550.000  2014              24.6\n",
            "4        648.000  2016              10.1\n",
            "\n",
            "данные из нечетных строк и третьего столбца\n",
            "2    2017\n",
            "5    2014\n",
            "3    2015\n",
            "Name: год, dtype: int64\n",
            "\n"
          ],
          "name": "stdout"
        }
      ]
    },
    {
      "cell_type": "code",
      "metadata": {
        "id": "F-pxhU7EQLya",
        "colab": {
          "base_uri": "https://localhost:8080/"
        },
        "outputId": "0a3f366a-5d98-42f9-a323-88105b118a9f"
      },
      "source": [
        "# 8. Удаление столбцов.\n",
        "df_exted = df_exted_2.drop(['проверка_расчетов'], axis='columns')\n",
        "\n",
        "print(df_exted)"
      ],
      "execution_count": null,
      "outputs": [
        {
          "output_type": "stream",
          "text": [
            "                               имя  ... географическое положение\n",
            "2            Солнечный парк Бхадла  ...                   Восток\n",
            "1  Солнечный парк в пустыне Тенгер  ...                     Азия\n",
            "5            Топаз солнечная ферма  ...                        ?\n",
            "4  Проект солнечной энергии Камути  ...                   Восток\n",
            "3  Солнечный парк плотины Лунъянся  ...                     Азия\n",
            "0          Павагада солнечный парк  ...                   Восток\n",
            "\n",
            "[6 rows x 7 columns]\n"
          ],
          "name": "stdout"
        }
      ]
    },
    {
      "cell_type": "code",
      "metadata": {
        "id": "HdRnmPqiQPDi",
        "colab": {
          "base_uri": "https://localhost:8080/"
        },
        "outputId": "ceee570f-f7a6-435e-88a1-da97f25f3462"
      },
      "source": [
        "# 9. Выборка данных по условию.\n",
        "# Выбрать электростанции с мощностью выше 1000 МВт\n",
        "print(df_exted[df_exted['мощность[МВт]'] > 1000.])\n",
        "print()\n",
        "\n",
        "\n",
        "# Выбрать электростанции с мощностью выше 700 МВт и не из Индии\n",
        "print(df_exted[(df_exted['мощность[МВт]'] > 700.) & (df_exted['страна'] != 'Индия')])\n",
        "print() \n",
        "\n",
        "# Выбрать электростанции с мощностью выше 700 МВт или относящиеся к Китаю\n",
        "print(df_exted[(df_exted['мощность[МВт]'] > 700.) | (df_exted['страна'] == 'Китай')])"
      ],
      "execution_count": null,
      "outputs": [
        {
          "output_type": "stream",
          "text": [
            "                       имя страна  ...  выработка_за_сутки  географическое положение\n",
            "0  Павагада солнечный парк  Индия  ...             49200.0                    Восток\n",
            "\n",
            "[1 rows x 7 columns]\n",
            "\n",
            "                               имя  ... географическое положение\n",
            "3  Солнечный парк плотины Лунъянся  ...                     Азия\n",
            "\n",
            "[1 rows x 7 columns]\n",
            "\n",
            "                               имя  ... географическое положение\n",
            "1  Солнечный парк в пустыне Тенгер  ...                     Азия\n",
            "3  Солнечный парк плотины Лунъянся  ...                     Азия\n",
            "0          Павагада солнечный парк  ...                   Восток\n",
            "\n",
            "[3 rows x 7 columns]\n"
          ],
          "name": "stdout"
        }
      ]
    },
    {
      "cell_type": "code",
      "metadata": {
        "id": "SiRnNwYBkDGP",
        "colab": {
          "base_uri": "https://localhost:8080/"
        },
        "outputId": "882c6967-49d2-4d5c-e8a7-c64682d51e0a"
      },
      "source": [
        "# 10. Статистические расчеты по сгруппированным данным.\n",
        "# Суммарная мощность по году электростанций.\n",
        "print(df_exted.groupby(['год'])['мощность[МВт]'].sum())\n",
        "print()\n",
        "\n",
        "# Максимальная мощность по стране электростанций.\n",
        "print(df_exted.groupby(['страна'])['мощность[МВт]'].max())\n",
        "print()\n"
      ],
      "execution_count": null,
      "outputs": [
        {
          "output_type": "stream",
          "text": [
            "год\n",
            "2014     550.000\n",
            "2015     850.000\n",
            "2016     649.547\n",
            "2017    2051.515\n",
            "Name: мощность[МВт], dtype: float64\n",
            "\n",
            "страна\n",
            "Индия                2050.0\n",
            "Китай                 850.0\n",
            "Соединенные Штаты     550.0\n",
            "Name: мощность[МВт], dtype: float64\n",
            "\n"
          ],
          "name": "stdout"
        }
      ]
    },
    {
      "cell_type": "code",
      "metadata": {
        "id": "n43xZBRjkMQo",
        "colab": {
          "base_uri": "https://localhost:8080/",
          "height": 279
        },
        "outputId": "1b74afe8-b6b0-43f5-8257-70e29acbee40"
      },
      "source": [
        "# 11. Быстрая визуализация данных\n",
        "# В предыдущей работе для визуализации данных применялись отдельные библиотеки.\n",
        "# Но для быстрого получения графиков и гистограмм можно использовать очень простой код. \n",
        "df_exted.plot(kind = 'bar')\n",
        "print()\n"
      ],
      "execution_count": null,
      "outputs": [
        {
          "output_type": "stream",
          "text": [
            "\n"
          ],
          "name": "stdout"
        },
        {
          "output_type": "display_data",
          "data": {
            "image/png": "[encoded data removed]",
            "text/plain": [
              "<Figure size 432x288 with 1 Axes>"
            ]
          },
          "metadata": {
            "tags": [],
            "needs_background": "light"
          }
        }
      ]
    },
    {
      "cell_type": "code",
      "metadata": {
        "id": "vZyWgGYZkPLu",
        "colab": {
          "base_uri": "https://localhost:8080/",
          "height": 279
        },
        "outputId": "dea75fb6-c78c-4f41-ac38-9f598d7ca0f0"
      },
      "source": [
        "# 12. Выбор столбцов для визуализации\n",
        "df_exted['мощность[МВт]'].plot(kind = 'bar')\n",
        "print()\n"
      ],
      "execution_count": null,
      "outputs": [
        {
          "output_type": "stream",
          "text": [
            "\n"
          ],
          "name": "stdout"
        },
        {
          "output_type": "display_data",
          "data": {
            "image/png": "[encoded data removed]",
            "text/plain": [
              "<Figure size 432x288 with 1 Axes>"
            ]
          },
          "metadata": {
            "tags": [],
            "needs_background": "light"
          }
        }
      ]
    },
    {
      "cell_type": "code",
      "metadata": {
        "id": "UaPlSyUXkRY-",
        "colab": {
          "base_uri": "https://localhost:8080/",
          "height": 282
        },
        "outputId": "317d3628-7cc2-448e-8abf-11d237b00f8a"
      },
      "source": [
        "\n",
        "# 13. Гистограмма после группировки\n",
        "df_exted.groupby(['географическое положение'])['мощность[МВт]'].sum().plot(kind = 'barh')\n",
        "print()\n"
      ],
      "execution_count": null,
      "outputs": [
        {
          "output_type": "stream",
          "text": [
            "\n"
          ],
          "name": "stdout"
        },
        {
          "output_type": "display_data",
          "data": {
            "image/png": "[encoded data removed]",
            "text/plain": [
              "<Figure size 432x288 with 1 Axes>"
            ]
          },
          "metadata": {
            "tags": [],
            "needs_background": "light"
          }
        }
      ]
    },
    {
      "cell_type": "code",
      "metadata": {
        "id": "DItgxhmHkUEG",
        "colab": {
          "base_uri": "https://localhost:8080/"
        },
        "outputId": "e7e12b0e-f04b-4b87-c2bb-a86349948201"
      },
      "source": [
        "# 14. Удаление строк по условию\n",
        "df_del = df_exted.drop(df_exted[df_exted['мощность[МВт]'] < 400].index)\n",
        "print(df_del)"
      ],
      "execution_count": null,
      "outputs": [
        {
          "output_type": "stream",
          "text": [
            "                               имя  ... географическое положение\n",
            "5            Топаз солнечная ферма  ...                        ?\n",
            "4  Проект солнечной энергии Камути  ...                   Восток\n",
            "3  Солнечный парк плотины Лунъянся  ...                     Азия\n",
            "0          Павагада солнечный парк  ...                   Восток\n",
            "\n",
            "[4 rows x 7 columns]\n"
          ],
          "name": "stdout"
        }
      ]
    },
    {
      "cell_type": "code",
      "metadata": {
        "colab": {
          "base_uri": "https://localhost:8080/",
          "height": 265
        },
        "id": "7eEufr4XzwuM",
        "outputId": "5690ffd3-6ce7-4ece-a816-ab8cc20990cb"
      },
      "source": [
        "# 15. Построение круговой диаграммы по данным.\n",
        "df_exted.groupby(['географическое положение'])['мощность[МВт]'].sum().plot(kind = 'pie')\n",
        "print()"
      ],
      "execution_count": null,
      "outputs": [
        {
          "output_type": "stream",
          "text": [
            "\n"
          ],
          "name": "stdout"
        },
        {
          "output_type": "display_data",
          "data": {
            "image/png": "[encoded data removed]",
            "text/plain": [
              "<Figure size 432x288 with 1 Axes>"
            ]
          },
          "metadata": {
            "tags": []
          }
        }
      ]
    },
    {
      "cell_type": "code",
      "metadata": {
        "id": "LkYrC_WQ0moS",
        "colab": {
          "base_uri": "https://localhost:8080/",
          "height": 34
        },
        "outputId": "346c05d3-d6c4-4f3c-a7ab-a36e4d66f908"
      },
      "source": [
        "#16. Интерактивный график. \n",
        "from bokeh.plotting import figure, output_file, show\n",
        "from bokeh.io import output_notebook\n",
        "\n",
        "output_notebook()\n",
        "p = figure(plot_width = 800, plot_height = 400)\n",
        "\n",
        "p.hbar(y = ['мощность[МВт]'], left=0, right=['географическое положение'] )"
      ],
      "execution_count": null,
      "outputs": [
        {
          "output_type": "execute_result",
          "data": {
            "text/html": [
              "<div style=\"display: table;\"><div style=\"display: table-row;\"><div style=\"display: table-cell;\"><b title=\"bokeh.models.renderers.GlyphRenderer\">GlyphRenderer</b>(</div><div style=\"display: table-cell;\">id&nbsp;=&nbsp;'1036', <span id=\"1039\" style=\"cursor: pointer;\">&hellip;)</span></div></div><div class=\"1038\" style=\"display: none;\"><div style=\"display: table-cell;\"></div><div style=\"display: table-cell;\">data_source&nbsp;=&nbsp;ColumnDataSource(id='1033', ...),</div></div><div class=\"1038\" style=\"display: none;\"><div style=\"display: table-cell;\"></div><div style=\"display: table-cell;\">glyph&nbsp;=&nbsp;HBar(id='1034', ...),</div></div><div class=\"1038\" style=\"display: none;\"><div style=\"display: table-cell;\"></div><div style=\"display: table-cell;\">hover_glyph&nbsp;=&nbsp;None,</div></div><div class=\"1038\" style=\"display: none;\"><div style=\"display: table-cell;\"></div><div style=\"display: table-cell;\">js_event_callbacks&nbsp;=&nbsp;{},</div></div><div class=\"1038\" style=\"display: none;\"><div style=\"display: table-cell;\"></div><div style=\"display: table-cell;\">js_property_callbacks&nbsp;=&nbsp;{},</div></div><div class=\"1038\" style=\"display: none;\"><div style=\"display: table-cell;\"></div><div style=\"display: table-cell;\">level&nbsp;=&nbsp;'glyph',</div></div><div class=\"1038\" style=\"display: none;\"><div style=\"display: table-cell;\"></div><div style=\"display: table-cell;\">muted&nbsp;=&nbsp;False,</div></div><div class=\"1038\" style=\"display: none;\"><div style=\"display: table-cell;\"></div><div style=\"display: table-cell;\">muted_glyph&nbsp;=&nbsp;None,</div></div><div class=\"1038\" style=\"display: none;\"><div style=\"display: table-cell;\"></div><div style=\"display: table-cell;\">name&nbsp;=&nbsp;None,</div></div><div class=\"1038\" style=\"display: none;\"><div style=\"display: table-cell;\"></div><div style=\"display: table-cell;\">nonselection_glyph&nbsp;=&nbsp;HBar(id='1035', ...),</div></div><div class=\"1038\" style=\"display: none;\"><div style=\"display: table-cell;\"></div><div style=\"display: table-cell;\">selection_glyph&nbsp;=&nbsp;'auto',</div></div><div class=\"1038\" style=\"display: none;\"><div style=\"display: table-cell;\"></div><div style=\"display: table-cell;\">subscribed_events&nbsp;=&nbsp;[],</div></div><div class=\"1038\" style=\"display: none;\"><div style=\"display: table-cell;\"></div><div style=\"display: table-cell;\">syncable&nbsp;=&nbsp;True,</div></div><div class=\"1038\" style=\"display: none;\"><div style=\"display: table-cell;\"></div><div style=\"display: table-cell;\">tags&nbsp;=&nbsp;[],</div></div><div class=\"1038\" style=\"display: none;\"><div style=\"display: table-cell;\"></div><div style=\"display: table-cell;\">view&nbsp;=&nbsp;CDSView(id='1037', ...),</div></div><div class=\"1038\" style=\"display: none;\"><div style=\"display: table-cell;\"></div><div style=\"display: table-cell;\">visible&nbsp;=&nbsp;True,</div></div><div class=\"1038\" style=\"display: none;\"><div style=\"display: table-cell;\"></div><div style=\"display: table-cell;\">x_range_name&nbsp;=&nbsp;'default',</div></div><div class=\"1038\" style=\"display: none;\"><div style=\"display: table-cell;\"></div><div style=\"display: table-cell;\">y_range_name&nbsp;=&nbsp;'default')</div></div></div>\n",
              "<script>\n",
              "(function() {\n",
              "  var expanded = false;\n",
              "  var ellipsis = document.getElementById(\"1039\");\n",
              "  ellipsis.addEventListener(\"click\", function() {\n",
              "    var rows = document.getElementsByClassName(\"1038\");\n",
              "    for (var i = 0; i < rows.length; i++) {\n",
              "      var el = rows[i];\n",
              "      el.style.display = expanded ? \"none\" : \"table-row\";\n",
              "    }\n",
              "    ellipsis.innerHTML = expanded ? \"&hellip;)\" : \"&lsaquo;&lsaquo;&lsaquo;\";\n",
              "    expanded = !expanded;\n",
              "  });\n",
              "})();\n",
              "</script>\n"
            ],
            "text/plain": [
              "GlyphRenderer(id='1036', ...)"
            ]
          },
          "metadata": {
            "tags": []
          },
          "execution_count": 239
        }
      ]
    }
  ]
}